{
 "cells": [
  {
   "cell_type": "markdown",
   "id": "deadly-journal",
   "metadata": {},
   "source": [
    "# Drinking water potability\n",
    "\n",
    "Primeiramente importaremos e mostraremos como se comporta a base."
   ]
  },
  {
   "cell_type": "code",
   "execution_count": 1,
   "id": "presidential-album",
   "metadata": {},
   "outputs": [
    {
     "data": {
      "text/html": [
       "<div>\n",
       "<style scoped>\n",
       "    .dataframe tbody tr th:only-of-type {\n",
       "        vertical-align: middle;\n",
       "    }\n",
       "\n",
       "    .dataframe tbody tr th {\n",
       "        vertical-align: top;\n",
       "    }\n",
       "\n",
       "    .dataframe thead th {\n",
       "        text-align: right;\n",
       "    }\n",
       "</style>\n",
       "<table border=\"1\" class=\"dataframe\">\n",
       "  <thead>\n",
       "    <tr style=\"text-align: right;\">\n",
       "      <th></th>\n",
       "      <th>ph</th>\n",
       "      <th>Hardness</th>\n",
       "      <th>Solids</th>\n",
       "      <th>Chloramines</th>\n",
       "      <th>Sulfate</th>\n",
       "      <th>Conductivity</th>\n",
       "      <th>Organic_carbon</th>\n",
       "      <th>Trihalomethanes</th>\n",
       "      <th>Turbidity</th>\n",
       "      <th>Potability</th>\n",
       "    </tr>\n",
       "  </thead>\n",
       "  <tbody>\n",
       "    <tr>\n",
       "      <th>0</th>\n",
       "      <td>NaN</td>\n",
       "      <td>204.890455</td>\n",
       "      <td>20791.318981</td>\n",
       "      <td>7.300212</td>\n",
       "      <td>368.516441</td>\n",
       "      <td>564.308654</td>\n",
       "      <td>10.379783</td>\n",
       "      <td>86.990970</td>\n",
       "      <td>2.963135</td>\n",
       "      <td>0</td>\n",
       "    </tr>\n",
       "    <tr>\n",
       "      <th>1</th>\n",
       "      <td>3.716080</td>\n",
       "      <td>129.422921</td>\n",
       "      <td>18630.057858</td>\n",
       "      <td>6.635246</td>\n",
       "      <td>NaN</td>\n",
       "      <td>592.885359</td>\n",
       "      <td>15.180013</td>\n",
       "      <td>56.329076</td>\n",
       "      <td>4.500656</td>\n",
       "      <td>0</td>\n",
       "    </tr>\n",
       "    <tr>\n",
       "      <th>2</th>\n",
       "      <td>8.099124</td>\n",
       "      <td>224.236259</td>\n",
       "      <td>19909.541732</td>\n",
       "      <td>9.275884</td>\n",
       "      <td>NaN</td>\n",
       "      <td>418.606213</td>\n",
       "      <td>16.868637</td>\n",
       "      <td>66.420093</td>\n",
       "      <td>3.055934</td>\n",
       "      <td>0</td>\n",
       "    </tr>\n",
       "    <tr>\n",
       "      <th>3</th>\n",
       "      <td>8.316766</td>\n",
       "      <td>214.373394</td>\n",
       "      <td>22018.417441</td>\n",
       "      <td>8.059332</td>\n",
       "      <td>356.886136</td>\n",
       "      <td>363.266516</td>\n",
       "      <td>18.436524</td>\n",
       "      <td>100.341674</td>\n",
       "      <td>4.628771</td>\n",
       "      <td>0</td>\n",
       "    </tr>\n",
       "    <tr>\n",
       "      <th>4</th>\n",
       "      <td>9.092223</td>\n",
       "      <td>181.101509</td>\n",
       "      <td>17978.986339</td>\n",
       "      <td>6.546600</td>\n",
       "      <td>310.135738</td>\n",
       "      <td>398.410813</td>\n",
       "      <td>11.558279</td>\n",
       "      <td>31.997993</td>\n",
       "      <td>4.075075</td>\n",
       "      <td>0</td>\n",
       "    </tr>\n",
       "  </tbody>\n",
       "</table>\n",
       "</div>"
      ],
      "text/plain": [
       "         ph    Hardness        Solids  Chloramines     Sulfate  Conductivity  \\\n",
       "0       NaN  204.890455  20791.318981     7.300212  368.516441    564.308654   \n",
       "1  3.716080  129.422921  18630.057858     6.635246         NaN    592.885359   \n",
       "2  8.099124  224.236259  19909.541732     9.275884         NaN    418.606213   \n",
       "3  8.316766  214.373394  22018.417441     8.059332  356.886136    363.266516   \n",
       "4  9.092223  181.101509  17978.986339     6.546600  310.135738    398.410813   \n",
       "\n",
       "   Organic_carbon  Trihalomethanes  Turbidity  Potability  \n",
       "0       10.379783        86.990970   2.963135           0  \n",
       "1       15.180013        56.329076   4.500656           0  \n",
       "2       16.868637        66.420093   3.055934           0  \n",
       "3       18.436524       100.341674   4.628771           0  \n",
       "4       11.558279        31.997993   4.075075           0  "
      ]
     },
     "execution_count": 1,
     "metadata": {},
     "output_type": "execute_result"
    }
   ],
   "source": [
    "import pandas as pd\n",
    "\n",
    "df = pd.read_csv(\"water_potability.csv\")\n",
    "\n",
    "df.head()"
   ]
  },
  {
   "cell_type": "markdown",
   "id": "noticed-simple",
   "metadata": {},
   "source": [
    "## Tratamento dos dados\n",
    "\n",
    "Como podemos ver abaixo existem vários valores `NaN`, *not a number*, na base. Portanto precisaremos tratar os dados, e removendo os valores nulos. Depois realizamos uma técnica conhecida como *undersampling*, na qual igualamos o número de instâncias das duas classes removendo as instâncias da classe com mais valores."
   ]
  },
  {
   "cell_type": "code",
   "execution_count": 2,
   "id": "tight-venice",
   "metadata": {
    "scrolled": true
   },
   "outputs": [
    {
     "data": {
      "text/plain": [
       "ph                 491\n",
       "Hardness             0\n",
       "Solids               0\n",
       "Chloramines          0\n",
       "Sulfate            781\n",
       "Conductivity         0\n",
       "Organic_carbon       0\n",
       "Trihalomethanes    162\n",
       "Turbidity            0\n",
       "Potability           0\n",
       "dtype: int64"
      ]
     },
     "execution_count": 2,
     "metadata": {},
     "output_type": "execute_result"
    }
   ],
   "source": [
    "df.isnull().sum()"
   ]
  },
  {
   "cell_type": "code",
   "execution_count": 3,
   "id": "figured-outreach",
   "metadata": {},
   "outputs": [
    {
     "data": {
      "text/plain": [
       "ph                 0\n",
       "Hardness           0\n",
       "Solids             0\n",
       "Chloramines        0\n",
       "Sulfate            0\n",
       "Conductivity       0\n",
       "Organic_carbon     0\n",
       "Trihalomethanes    0\n",
       "Turbidity          0\n",
       "Potability         0\n",
       "dtype: int64"
      ]
     },
     "execution_count": 3,
     "metadata": {},
     "output_type": "execute_result"
    }
   ],
   "source": [
    "df = df.dropna()\n",
    "df.isnull().sum()"
   ]
  },
  {
   "cell_type": "code",
   "execution_count": 4,
   "id": "current-gambling",
   "metadata": {},
   "outputs": [
    {
     "data": {
      "text/plain": [
       "0    811\n",
       "1    811\n",
       "Name: Potability, dtype: int64"
      ]
     },
     "execution_count": 4,
     "metadata": {},
     "output_type": "execute_result"
    }
   ],
   "source": [
    "import numpy as np\n",
    "\n",
    "not_potable_indices = df[df.Potability == 0].index\n",
    "number_of_potables = df[df.Potability == 1].shape[0]\n",
    "random_indices = np.random.choice(not_potable_indices, number_of_potables, replace=False)\n",
    "df_not_potables = df.loc[random_indices]\n",
    "df_potables = df[df.Potability == 1]\n",
    "df = pd.concat([df_potables, df_not_potables])\n",
    "\n",
    "df.Potability.value_counts()"
   ]
  },
  {
   "cell_type": "markdown",
   "id": "touched-scanning",
   "metadata": {},
   "source": [
    "## Dividindo os dados em treino e teste\n",
    "Dividimos os dados em `X`, sendo os instâncias e `y` os valores da classe \"Potability\"."
   ]
  },
  {
   "cell_type": "code",
   "execution_count": 5,
   "id": "coordinate-wages",
   "metadata": {},
   "outputs": [],
   "source": [
    "from sklearn.model_selection import train_test_split\n",
    "\n",
    "X = df.drop('Potability',axis=1).values\n",
    "y = df['Potability'].values\n",
    "\n",
    "X_train, X_test, y_train, y_test = train_test_split(X, y, test_size=0.3, random_state=0xB33F)"
   ]
  },
  {
   "cell_type": "markdown",
   "id": "engaging-surprise",
   "metadata": {},
   "source": [
    "# Treinos e testes\n",
    "## Bernoulli Naive Bayes"
   ]
  },
  {
   "cell_type": "code",
   "execution_count": 15,
   "id": "extended-hydrogen",
   "metadata": {},
   "outputs": [
    {
     "name": "stdout",
     "output_type": "stream",
     "text": [
      "Accuracy: 0.4804928131416838\n",
      "              precision    recall  f1-score   support\n",
      "\n",
      " Not Potable       0.48      1.00      0.65       234\n",
      "     Potable       0.00      0.00      0.00       253\n",
      "\n",
      "    accuracy                           0.48       487\n",
      "   macro avg       0.24      0.50      0.32       487\n",
      "weighted avg       0.23      0.48      0.31       487\n",
      "\n"
     ]
    },
    {
     "name": "stderr",
     "output_type": "stream",
     "text": [
      "/home/negreiros/.local/lib/python3.9/site-packages/sklearn/metrics/_classification.py:1245: UndefinedMetricWarning: Precision and F-score are ill-defined and being set to 0.0 in labels with no predicted samples. Use `zero_division` parameter to control this behavior.\n",
      "  _warn_prf(average, modifier, msg_start, len(result))\n",
      "/home/negreiros/.local/lib/python3.9/site-packages/sklearn/metrics/_classification.py:1245: UndefinedMetricWarning: Precision and F-score are ill-defined and being set to 0.0 in labels with no predicted samples. Use `zero_division` parameter to control this behavior.\n",
      "  _warn_prf(average, modifier, msg_start, len(result))\n",
      "/home/negreiros/.local/lib/python3.9/site-packages/sklearn/metrics/_classification.py:1245: UndefinedMetricWarning: Precision and F-score are ill-defined and being set to 0.0 in labels with no predicted samples. Use `zero_division` parameter to control this behavior.\n",
      "  _warn_prf(average, modifier, msg_start, len(result))\n"
     ]
    }
   ],
   "source": [
    "from sklearn.naive_bayes import BernoulliNB\n",
    "from sklearn.metrics import classification_report, accuracy_score\n",
    "\n",
    "BNB = BernoulliNB()\n",
    "BNB.fit(X_train, y_train)\n",
    "\n",
    "y_predicted = BNB.predict(X_test)\n",
    "\n",
    "target_names = ['Not Potable', 'Potable']\n",
    "print(f\"Accuracy: {accuracy_score(y_test, y_predicted)}\")\n",
    "print(classification_report(y_test, y_predicted, target_names=target_names))"
   ]
  },
  {
   "cell_type": "markdown",
   "id": "industrial-lodge",
   "metadata": {},
   "source": [
    "### Análise\n",
    "É interessante notar que o Bernoulli Naive Bayes não conseguiu generalizar bem, classificando todos as instâncias como 0, não potáveis. Aqui nós ainda temos que descobrir o porquê (ou não) do que isso aconteceu pra colocar no artigo. Como não existem praticamente nenhum parâmetro"
   ]
  },
  {
   "cell_type": "markdown",
   "id": "quiet-league",
   "metadata": {},
   "source": [
    "## Random Forest - Conjunto de parâmetros 1"
   ]
  },
  {
   "cell_type": "code",
   "execution_count": 16,
   "id": "convenient-brown",
   "metadata": {},
   "outputs": [
    {
     "name": "stdout",
     "output_type": "stream",
     "text": [
      "Accuracy: 0.6098562628336756\n",
      "              precision    recall  f1-score   support\n",
      "\n",
      " Not Potable       0.59      0.64      0.61       234\n",
      "     Potable       0.64      0.58      0.61       253\n",
      "\n",
      "    accuracy                           0.61       487\n",
      "   macro avg       0.61      0.61      0.61       487\n",
      "weighted avg       0.61      0.61      0.61       487\n",
      "\n"
     ]
    }
   ],
   "source": [
    "from sklearn.ensemble import RandomForestClassifier\n",
    "\n",
    "RF = RandomForestClassifier(n_estimators=100, min_samples_leaf=2, random_state=0xB33F)\n",
    "RF.fit(X_train, y_train)\n",
    "\n",
    "y_predicted = RF.predict(X_test)\n",
    "\n",
    "target_names = ['Not Potable', 'Potable']\n",
    "print(f\"Accuracy: {accuracy_score(y_test, y_predicted)}\")\n",
    "print(classification_report(y_test, y_predicted, target_names=target_names))"
   ]
  },
  {
   "cell_type": "markdown",
   "id": "severe-hands",
   "metadata": {},
   "source": [
    "### Análise\n",
    "Ao contrário do Bernoulli Naive Bayes, o Random Forest Classifier conseguiu generalizar para as duas classes\n"
   ]
  },
  {
   "cell_type": "markdown",
   "id": "directed-amino",
   "metadata": {},
   "source": [
    "## Random Forest - Conjunto de parâmetros 2"
   ]
  },
  {
   "cell_type": "code",
   "execution_count": 26,
   "id": "collectible-yellow",
   "metadata": {},
   "outputs": [
    {
     "name": "stdout",
     "output_type": "stream",
     "text": [
      "Accuracy: 0.6262833675564682\n",
      "              precision    recall  f1-score   support\n",
      "\n",
      " Not Potable       0.60      0.66      0.63       234\n",
      "     Potable       0.66      0.59      0.62       253\n",
      "\n",
      "    accuracy                           0.63       487\n",
      "   macro avg       0.63      0.63      0.63       487\n",
      "weighted avg       0.63      0.63      0.63       487\n",
      "\n"
     ]
    }
   ],
   "source": [
    "RF = RandomForestClassifier(n_estimators=1000, min_samples_leaf=2, random_state=0xB33F)\n",
    "RF.fit(X_train, y_train)\n",
    "\n",
    "y_predicted = RF.predict(X_test)\n",
    "\n",
    "target_names = ['Not Potable', 'Potable']\n",
    "print(f\"Accuracy: {accuracy_score(y_test, y_predicted)}\")\n",
    "print(classification_report(y_test, y_predicted, target_names=target_names))"
   ]
  },
  {
   "cell_type": "markdown",
   "id": "aggressive-bronze",
   "metadata": {},
   "source": [
    "### Análise\n",
    "Como podemos ver, o número de árvores da flores não influencia tanto na melhoria do modelo. Com 10 vezes o número mair de árvores, a melhor no *f1-score* é de apenas 0.01."
   ]
  },
  {
   "cell_type": "markdown",
   "id": "inner-worry",
   "metadata": {},
   "source": [
    "## Random Forest - Conjunto de parâmetros 3"
   ]
  },
  {
   "cell_type": "code",
   "execution_count": 30,
   "id": "bacterial-oliver",
   "metadata": {},
   "outputs": [
    {
     "name": "stdout",
     "output_type": "stream",
     "text": [
      "Accuracy: 0.6119096509240246\n",
      "              precision    recall  f1-score   support\n",
      "\n",
      " Not Potable       0.58      0.66      0.62       234\n",
      "     Potable       0.64      0.57      0.60       253\n",
      "\n",
      "    accuracy                           0.61       487\n",
      "   macro avg       0.61      0.61      0.61       487\n",
      "weighted avg       0.62      0.61      0.61       487\n",
      "\n"
     ]
    }
   ],
   "source": [
    "RF = RandomForestClassifier(n_estimators=100, min_samples_leaf=1, random_state=0xB33F)\n",
    "RF.fit(X_train, y_train)\n",
    "\n",
    "y_predicted = RF.predict(X_test)\n",
    "\n",
    "target_names = ['Not Potable', 'Potable']\n",
    "print(f\"Accuracy: {accuracy_score(y_test, y_predicted)}\")\n",
    "print(classification_report(y_test, y_predicted, target_names=target_names))"
   ]
  },
  {
   "cell_type": "markdown",
   "id": "regional-shopper",
   "metadata": {},
   "source": [
    "### Análise\n",
    "Diminuir o número de instâncias necessárias para que se construa um nó da árvore não constituiu efeito significativo."
   ]
  }
 ],
 "metadata": {
  "kernelspec": {
   "display_name": "Python 3",
   "language": "python",
   "name": "python3"
  },
  "language_info": {
   "codemirror_mode": {
    "name": "ipython",
    "version": 3
   },
   "file_extension": ".py",
   "mimetype": "text/x-python",
   "name": "python",
   "nbconvert_exporter": "python",
   "pygments_lexer": "ipython3",
   "version": "3.9.4"
  }
 },
 "nbformat": 4,
 "nbformat_minor": 5
}
